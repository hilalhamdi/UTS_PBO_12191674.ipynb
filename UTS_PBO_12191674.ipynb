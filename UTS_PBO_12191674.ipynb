{
 "cells": [
  {
   "cell_type": "markdown",
   "metadata": {},
   "source": []
  },
  {
   "cell_type": "code",
   "execution_count": null,
   "metadata": {},
   "outputs": [
    {
     "name": "stdout",
     "output_type": "stream",
     "text": [
      "Masukkan tinggi limas :6\n",
      "Masukkan luas limas :5\n",
      "volume :  10\n",
      "Ulang lagi:ya\n",
      "Masukkan tinggi limas :2\n",
      "Masukkan luas limas :3\n",
      "volume :  2\n"
     ]
    }
   ],
   "source": [
    "for i in iter(int,1):                                       #melakukan perulangan dengan for\n",
    "    tinggi = int(input(\"Masukkan tinggi limas :\"))          #masukkan input tinggi limas\n",
    "    luas = int(input(\"Masukkan luas limas :\"))              #masukkan input luas limas\n",
    "    volume = int(1/3 * luas * tinggi)                       #proses mencari volume limas segilima nya\n",
    "    print(\"volume : \", volume)                              #output\n",
    "    i = input('Ulang lagi:')                                #input untuk mengulang prograng atau tidak\n",
    "    if i == 'tidak':                                        #jika tidak maka program akan berhenti dan jika ya program akan diulang kembali\n",
    "        print()\n",
    "        break\n",
    "print(\"selesai\")"
   ]
  },
  {
   "cell_type": "markdown",
   "metadata": {},
   "source": [
    "##### "
   ]
  },
  {
   "cell_type": "markdown",
   "metadata": {},
   "source": [
    "### jawaban nomor 2\n",
    "\n",
    "\n",
    "\n"
   ]
  },
  {
   "cell_type": "code",
   "execution_count": null,
   "metadata": {},
   "outputs": [],
   "source": []
  },
  {
   "cell_type": "code",
   "execution_count": null,
   "metadata": {},
   "outputs": [],
   "source": []
  },
  {
   "cell_type": "code",
   "execution_count": null,
   "metadata": {},
   "outputs": [],
   "source": []
  },
  {
   "cell_type": "code",
   "execution_count": null,
   "metadata": {},
   "outputs": [],
   "source": []
  }
 ],
 "metadata": {
  "kernelspec": {
   "display_name": "Python 3",
   "language": "python",
   "name": "python3"
  },
  "language_info": {
   "codemirror_mode": {
    "name": "ipython",
    "version": 3
   },
   "file_extension": ".py",
   "mimetype": "text/x-python",
   "name": "python",
   "nbconvert_exporter": "python",
   "pygments_lexer": "ipython3",
   "version": "3.8.3"
  }
 },
 "nbformat": 4,
 "nbformat_minor": 4
}
